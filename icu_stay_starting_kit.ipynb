{
 "cells": [
  {
   "cell_type": "markdown",
   "metadata": {},
   "source": [
    "# [Paris Saclay Center for Data Science](http://www.datascience-paris-saclay.fr)\n",
    "\n",
    "## ICU stay: predicting length-of-stay (LOS) with characteristics at admission\n",
    "\n",
    "_David BERTOIN, Emmanuel GILSON, Vincent KERMOUNI, Paul MANGOLD, Dinh-Phong NGUYEN_\n",
    "\n",
    "## Introduction\n",
    "\n",
    "Intensive care unit (ICU) length of stay (LOS) is a frequent measure of ICU **resource use** and **performance** [1]. Predictions of ICU LOS are routinely used as the means of resource allocation because patients with prolonged ICU LOS account for a large proportion of resource use [2], and the early identification of the patients may help in future **planning**, such as determining discharge alternatives (e.g. long-term acute care facilities) or making sure the receiving ward after stabilization has enough available beds at the time of discharge. \n",
    "\n",
    "Nevertheless, prediction of ICU LOS is difficult and less studied than the prediction of mortality [3]. Prolonged stay in ICU not only **increases the overall costs** and **consumes more resources**, but also **limits the number of beds** available for use. In addition, patients, families, physicians and managers demand more informed health care information. In addition, predictive ICU models could be a building block in the larger process of making _do not resuscitate_ (DNR) decisions to determine whether to stop patient therapy to avoid unnecessary suffering and treatment costs [4].\n",
    "\n",
    "The ability to predict LOS as an **initial assessment** of patients’ risk is therefore critical for better **resource planning and allocation**, especially when the resources are limited, as in ICUs, and can also facilitate management with **higher flexibility in hospital bed use** and better assessment in the **cost-effectiveness treatment**.\n",
    "\n",
    "Thus, we believe ICU LOS to be a **very valuable key performance indicator (KPI)**, pertinent in all the critical hospital management fields mentioned above. The goal of this challenge is to predict ICU LOS with the help of patients' characteristics at admission in ICU. All data has been queried from the MIMIC-III database [4], an openly available dataset developed by the MIT Lab for Computational Physiology, comprising deidentified health data associated with ~40,000 critical care patients."
   ]
  },
  {
   "cell_type": "markdown",
   "metadata": {},
   "source": [
    "### Requirements\n",
    "\n",
    "* numpy $\\geq$ 1.10.0  \n",
    "* matplotlib $\\geq$ 1.5.0 \n",
    "* pandas $\\geq$ 0.19.0  \n",
    "* scikit-learn $\\geq$ 0.17 (different syntaxes for v0.17 and v0.18)   "
   ]
  },
  {
   "cell_type": "code",
   "execution_count": null,
   "metadata": {},
   "outputs": [],
   "source": [
    "import pandas as pd\n",
    "import numpy as np\n",
    "import matplotlib.pyplot as plt\n",
    "%matplotlib inline\n",
    "\n",
    "from sklearn.model_selection import train_test_split"
   ]
  },
  {
   "cell_type": "markdown",
   "metadata": {},
   "source": [
    "### Loading data"
   ]
  },
  {
   "cell_type": "code",
   "execution_count": null,
   "metadata": {},
   "outputs": [],
   "source": [
    "train_filename = 'data/train.csv'\n",
    "data = pd.read_csv(train_filename)\n",
    "data['dob'] = pd.to_datetime(data['dob'])\n",
    "data"
   ]
  },
  {
   "cell_type": "markdown",
   "metadata": {},
   "source": [
    "### Variables description"
   ]
  },
  {
   "cell_type": "markdown",
   "metadata": {},
   "source": [
    "- __SUBJECT_ID, HADM_ID, ICUSTAY_ID__: <br>\n",
    "Identifiers which specify the patient: SUBJECT_ID is unique to a patient, HADM_ID is unique to a patient hospital stay and ICUSTAY_ID is unique to a patient ICU stay.\n",
    "\n",
    "\n",
    "- __DOB__: <br>\n",
    "is the date of birth of the given patient. Patients who are older than 89 years old at any time in the database have had their date of birth shifted to obscure their age and comply with HIPAA. The shift process was as follows: the patient’s age at their first admission was determined. The date of birth was then set to exactly 300 years before their first admission.\n",
    "\n",
    "\n",
    "- __ADMISSION_TYPE__: <br>\n",
    "describes the type of the admission: ‘ELECTIVE’, ‘URGENT’, ‘NEWBORN’ or ‘EMERGENCY’. Emergency/urgent indicate unplanned medical care, and are often collapsed into a single category in studies. Elective indicates a previously planned hospital admission. Newborn indicates that the HADM_ID pertains to the patient’s birth.\n",
    "\n",
    "\n",
    "- __INSURANCE, LANGUAGE, RELIGION, MARITAL_STATUS, ETHNICITY__: <br>\n",
    "These columns describe patient demographics. These columns occur in the ADMISSIONS table as they are originally sourced from the admission, discharge, and transfers (ADT) data from the hospital database. The values occasionally change between hospital admissions (HADM_ID) for a single patient (SUBJECT_ID). This is reasonable for some fields (e.g. MARITAL_STATUS, RELIGION), but less reasonable for others (e.g. ETHNICITY).\n",
    "\n",
    "\n",
    "- __DIAGNOSIS__ : <br>\n",
    "The DIAGNOSIS column provides a preliminary, free text diagnosis for the patient on hospital admission. The diagnosis is usually assigned by the admitting clinician and does not use a systematic ontology.\n",
    "\n",
    "\n",
    "- __FIRST_CAREUNIT, LAST_CAREUNIT__ : <br>\n",
    "Contain respectively, the first and last ICU type in which the patient was cared for.\n",
    "\n",
    "\n",
    "- __sysbp_min, sysbp_max, sysbp_mean__ : <br>\n",
    "Contain respectively, the minimum, the maximum and the mean of the patient's systolic blood pressure measured during its first day of arrival in the ICU.\n",
    "\n",
    "\n",
    "- __diasbp_min, diasbp_max, diasbp_mean__ : <br>\n",
    "Contain respectively, the minimum, the maximum and the mean of the patient's diastolic blood pressure measured during its first day of arrival in the ICU.\n",
    "\n",
    "\n",
    "- __meanbp_min, meanbp_max, meanbp_mean__ : <br>\n",
    "Contain respectively, the minimum, the maximum and the mean of the combinaison between 2/3 of the patient's systolic blood pressure and 1/3 of the patient's diastolic blood pressure measured during its first day of arrival in the ICU.\n",
    "\n",
    "\n",
    "- __resprate_min, resprate_max, resprate_mean__ : <br>\n",
    "Contain respectively, the minimum, the maximum and the mean of the patient's respiratory rate measured during its first day of arrival in the ICU.\n",
    "\n",
    "\n",
    "- __tempc_min, tempc_max, tempc_mean__ : <br>\n",
    "Contain respectively, the minimum, the maximum and the mean of the patient's temperature measured during its first day of arrival in the ICU.\n",
    "\n",
    "\n",
    "- __spo2_min, spo2_max, spo2_mean__ : <br>\n",
    "Contain respectively, the minimum, the maximum and the mean of the patient's arterial oxygen saturation measured during its first day of arrival in the ICU.\n",
    "\n",
    "\n",
    "- __glucose_min, glucose_max, glucose_mean__ : <br>\n",
    "Contain respectively, the minimum, the maximum and the mean of the patient's blood sugar level measured during its first day of arrival in the ICU.\n",
    "\n"
   ]
  },
  {
   "cell_type": "markdown",
   "metadata": {},
   "source": [
    "### Basic data exploration"
   ]
  },
  {
   "cell_type": "code",
   "execution_count": null,
   "metadata": {},
   "outputs": [],
   "source": [
    "data.dtypes"
   ]
  },
  {
   "cell_type": "code",
   "execution_count": null,
   "metadata": {},
   "outputs": [],
   "source": [
    "data.describe()"
   ]
  },
  {
   "cell_type": "code",
   "execution_count": null,
   "metadata": {},
   "outputs": [],
   "source": [
    "data.count()"
   ]
  },
  {
   "cell_type": "code",
   "execution_count": null,
   "metadata": {},
   "outputs": [],
   "source": [
    "plt.figure(figsize=(16, 10))\n",
    "plt.subplot(2,2,1)\n",
    "plt.title('Gender')\n",
    "data.gender.value_counts().plot(kind='bar')\n",
    "plt.subplot(2,2,2)\n",
    "plt.title('Admission type')\n",
    "data.admission_type.value_counts().plot(kind='bar')\n",
    "plt.figure(figsize=(16, 10))\n",
    "plt.subplot(2,2,1)\n",
    "plt.title('Religion')\n",
    "data.religion.value_counts().plot(kind='bar')\n",
    "plt.subplot(2,2,2)\n",
    "plt.title('Ethnicity')\n",
    "data.ethnicity.value_counts().plot(kind='bar')"
   ]
  },
  {
   "cell_type": "markdown",
   "metadata": {},
   "source": [
    "## The pipeline\n",
    "\n",
    "For submitting at the [RAMP site](http://ramp.studio), you will have to write two classes, saved in two different files:   \n",
    "* the class `FeatureExtractor`, which will be used to extract features for classification from the dataset and produce a numpy array of size (number of samples $\\times$ number of features). \n",
    "* a class `Regressor` to predict "
   ]
  },
  {
   "cell_type": "markdown",
   "metadata": {},
   "source": [
    "### Feature Extractor\n",
    "\n",
    "The feature extractor implements a `transform` member function. It is saved in the file [`submissions/starting_kit/feature_extractor.py`](/edit/submissions/starting_kit/feature_extractor.py). It receives the pandas dataframe `X_df` defined at the beginning of the notebook. It should produce a numpy array representing the extracted features, which will then be used for the classification.  \n",
    "\n",
    "Note that the following code cells are *not* executed in the notebook. The notebook saves their contents in the file specified in the first line of the cell, so you can edit your submission before running the local test below and submitting it at the RAMP site."
   ]
  },
  {
   "cell_type": "code",
   "execution_count": null,
   "metadata": {},
   "outputs": [],
   "source": [
    "%%file submissions/starting_kit/feature_extractor.py\n",
    "# -*- coding: utf-8 -*-\n",
    "import pandas as pd\n",
    "import os\n",
    "from sklearn.preprocessing import LabelBinarizer\n",
    "def fill_mean(feat):\n",
    "    filled = feat.fillna(feat.mean())\n",
    "    return filled\n",
    "\n",
    "class FeatureExtractor(object):\n",
    "    def __init__(self):\n",
    "        self.na_string = \"__na\"\n",
    "        self.other_string = \"__other\"\n",
    "    \n",
    "    def rename_other(self, X_df):\n",
    "        return X_df.map(lambda s: self.other_string if s not in self.encoder.classes_ else s)\n",
    "    \n",
    "    def fit(self, X_df, y_array):\n",
    "        X = pd.concat([X_df['admission_type'], pd.Series(list(self.other_string))])\n",
    "        self.encoder = LabelBinarizer()\n",
    "        self.encoder.fit(X.fillna(self.na_string))        \n",
    "\n",
    "        return self\n",
    "\n",
    "    def transform(self, X_df):    \n",
    "        features = ['heartrate_mean', 'sysbp_mean', 'diasbp_mean', 'resprate_mean', 'tempc_mean', 'admission_type']\n",
    "        X = X_df[features].reset_index()\n",
    "        heart = fill_mean(X.heartrate_mean)\n",
    "        sbp = fill_mean(X.sysbp_mean)\n",
    "        dbp = fill_mean(X.diasbp_mean)\n",
    "        resp = fill_mean(X.resprate_mean)\n",
    "        temp = fill_mean(X.tempc_mean)\n",
    "        admit = pd.DataFrame(self.encoder.transform(\n",
    "            self.rename_other(X['admission_type'].fillna(self.na_string))))\n",
    "        X = pd.concat([heart, sbp, dbp, resp, temp, admit], axis=1)\n",
    "        \n",
    "        return X\n",
    "    \n",
    "    def fit_transform(self, X_df):\n",
    "        return self.fit(X_df).transform(X_df)"
   ]
  },
  {
   "cell_type": "markdown",
   "metadata": {},
   "source": [
    "### Regressor\n",
    "\n",
    "The regressor follows a classical scikit-learn classifier template. It should be saved in the file [`submissions/starting_kit/classifier.py`](/submissions/starting_kit/regressor.py). In its simplest form it takes a scikit-learn pipeline, assigns it to `self.clf` in `__init__`, then calls its `fit` and `predict_proba` functions in the corresponding member funtions."
   ]
  },
  {
   "cell_type": "code",
   "execution_count": null,
   "metadata": {},
   "outputs": [],
   "source": [
    "%%file submissions/starting_kit/regressor.py\n",
    "# -*- coding: utf-8 -*-\n",
    "from sklearn.base import BaseEstimator\n",
    "from sklearn.linear_model import LinearRegression\n",
    "\n",
    "\n",
    "class Regressor(BaseEstimator):\n",
    "    def __init__(self):\n",
    "        pass\n",
    "\n",
    "    def fit(self, X, y):\n",
    "        self.reg = LinearRegression()\n",
    "        self.reg.fit(X, y)\n",
    "\n",
    "    def predict(self, X):\n",
    "        return self.reg.predict(X)"
   ]
  },
  {
   "cell_type": "code",
   "execution_count": null,
   "metadata": {},
   "outputs": [],
   "source": [
    "%%file submissions/starting_kit/regressor.py\n",
    "# -*- coding: utf-8 -*-\n",
    "from sklearn.base import BaseEstimator\n",
    "from sklearn.ensemble import RandomForestRegressor\n",
    "\n",
    "\n",
    "class Regressor(BaseEstimator):\n",
    "    def __init__(self):\n",
    "        pass\n",
    "\n",
    "    def fit(self, X, y):\n",
    "        self.reg = RandomForestRegressor(n_estimators=500, n_jobs=-1)\n",
    "        self.reg.fit(X, y)\n",
    "\n",
    "    def predict(self, X):\n",
    "        return self.reg.predict(X)"
   ]
  },
  {
   "cell_type": "markdown",
   "metadata": {},
   "source": [
    "## Local testing (before submission)\n",
    "\n",
    "It is <b><span style=\"color:red\">important that you test your submission files before submitting them</span></b>. For this we provide a unit test. Note that the test runs on your files in [`submissions/starting_kit`](/tree/submissions/starting_kit), not on the classes defined in the cells of this notebook.\n",
    "\n",
    "First `pip install ramp-workflow` or install it from the [github repo](https://github.com/paris-saclay-cds/ramp-workflow). Make sure that the python files `feature_extractor.py` and `regressor.py` are in the  [`submissions/starting_kit`](/tree/submissions/starting_kit) folder, and the data `train.csv` and `test.csv` are in [`data`](/tree/data). Then run\n",
    "\n",
    "```ramp_test_submission```\n",
    "\n",
    "If it runs and print training and test errors on each fold, then you can submit the code."
   ]
  },
  {
   "cell_type": "code",
   "execution_count": null,
   "metadata": {},
   "outputs": [],
   "source": [
    "!ramp_test_submission --quick-test"
   ]
  },
  {
   "cell_type": "markdown",
   "metadata": {},
   "source": [
    "### References\n",
    "\n",
    "[1] Rhodes A, Moreno RP, Azoulay E et al.  . Prospectively defined indicators to improve the safety and quality of care for critically ill patients: a report from the Task Force on Safety and Quality of the European Society of Intensive Care Medicine (ESICM). Intensive Care Med  2012;38:598–605\n",
    "\n",
    "[2] Stricker K, Rothen HU, Takala J. Resource use in the ICU: short- vs. long-term patients. Acta Anaesthesiol Scand  2003;47:508–15\n",
    "\n",
    "[3] Perez A, Chan W, Dennis RJ. Predicting the length of stay of patients admitted for intensive care using a first step analysis. Health Service Outcomes and Research. 2006;6:127–138\n",
    "\n",
    "[4] MIMIC-III, a freely accessible critical care database. Johnson AEW, Pollard TJ, Shen L, Lehman L, Feng M, Ghassemi M, Moody B, Szolovits P, Celi LA, and Mark RG. Scientific Data (2016). DOI: 10.1038/sdata.2016.35. Available at: http://www.nature.com/articles/sdata201635\n",
    "\n",
    "[5] Pei-Fang (Jennifer) Tsai, Po-Chia Chen, Yen-You Chen, et al., Length of Hospital Stay Prediction at the Admission Stage for Cardiology Patients Using Artificial Neural Network, Journal of Healthcare Engineering, vol. 2016, Article ID 7035463, 11 pages, 2016. doi:10.1155/2016/7035463"
   ]
  },
  {
   "cell_type": "code",
   "execution_count": null,
   "metadata": {},
   "outputs": [],
   "source": []
  }
 ],
 "metadata": {
  "language_info": {
   "name": "python",
   "pygments_lexer": "ipython3"
  }
 },
 "nbformat": 4,
 "nbformat_minor": 2
}
